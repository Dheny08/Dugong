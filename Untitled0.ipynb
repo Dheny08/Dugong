{
  "nbformat": 4,
  "nbformat_minor": 0,
  "metadata": {
    "colab": {
      "provenance": [],
      "authorship_tag": "ABX9TyMJhrRSYnCaIr6h1g7vj9ul",
      "include_colab_link": true
    },
    "kernelspec": {
      "name": "python3",
      "display_name": "Python 3"
    },
    "language_info": {
      "name": "python"
    }
  },
  "cells": [
    {
      "cell_type": "markdown",
      "metadata": {
        "id": "view-in-github",
        "colab_type": "text"
      },
      "source": [
        "<a href=\"https://colab.research.google.com/github/Dheny08/Dugong/blob/main/Untitled0.ipynb\" target=\"_parent\"><img src=\"https://colab.research.google.com/assets/colab-badge.svg\" alt=\"Open In Colab\"/></a>"
      ]
    },
    {
      "cell_type": "code",
      "execution_count": 1,
      "metadata": {
        "colab": {
          "base_uri": "https://localhost:8080/"
        },
        "id": "h1S4frBHe1uO",
        "outputId": "24518255-522a-4377-cf08-b1ed063390f1"
      },
      "outputs": [
        {
          "output_type": "stream",
          "name": "stdout",
          "text": [
            "Requirement already satisfied: pyspark in /usr/local/lib/python3.10/dist-packages (3.5.0)\n",
            "Requirement already satisfied: py4j==0.10.9.7 in /usr/local/lib/python3.10/dist-packages (from pyspark) (0.10.9.7)\n"
          ]
        }
      ],
      "source": [
        "pip install pyspark"
      ]
    },
    {
      "cell_type": "code",
      "source": [
        "pip install findspark"
      ],
      "metadata": {
        "colab": {
          "base_uri": "https://localhost:8080/"
        },
        "id": "Z3Heg4OIfqVj",
        "outputId": "83e8f58a-46cd-4334-98d1-8e2da5f7c0ac"
      },
      "execution_count": 2,
      "outputs": [
        {
          "output_type": "stream",
          "name": "stdout",
          "text": [
            "Requirement already satisfied: findspark in /usr/local/lib/python3.10/dist-packages (2.0.1)\n"
          ]
        }
      ]
    },
    {
      "cell_type": "code",
      "source": [
        "import findspark\n",
        "findspark.init()\n",
        "\n",
        "from pyspark.sql import SparkSession\n",
        "from pyspark import SparkFiles\n",
        "from pyspark.ml.regression import LinearRegression\n",
        "from pyspark.ml.feature import VectorAssembler\n",
        "from pyspark.ml.evaluation import RegressionEvaluator\n",
        "\n",
        "\n",
        "spark = SparkSession.builder \\\n",
        "    .appName(\"Linear Regression with PySpark MLlib\") \\\n",
        "    .getOrCreate()"
      ],
      "metadata": {
        "id": "an43VI-df32U"
      },
      "execution_count": 3,
      "outputs": []
    },
    {
      "cell_type": "code",
      "source": [
        "url = \"https://raw.githubusercontent.com/selva86/datasets/master/BostonHousing.csv\"\n",
        "spark.sparkContext.addFile(url)\n",
        "\n",
        "data = spark.read.csv(SparkFiles.get(\"BostonHousing.csv\"), header=True, inferSchema=True)\n",
        "data.show(5)"
      ],
      "metadata": {
        "colab": {
          "base_uri": "https://localhost:8080/"
        },
        "id": "-ySa4RKpf37p",
        "outputId": "30edb54a-d910-4313-e1f2-4abdc80112f9"
      },
      "execution_count": 4,
      "outputs": [
        {
          "output_type": "stream",
          "name": "stdout",
          "text": [
            "+-------+----+-----+----+-----+-----+----+------+---+---+-------+------+-----+----+\n",
            "|   crim|  zn|indus|chas|  nox|   rm| age|   dis|rad|tax|ptratio|     b|lstat|medv|\n",
            "+-------+----+-----+----+-----+-----+----+------+---+---+-------+------+-----+----+\n",
            "|0.00632|18.0| 2.31|   0|0.538|6.575|65.2|  4.09|  1|296|   15.3| 396.9| 4.98|24.0|\n",
            "|0.02731| 0.0| 7.07|   0|0.469|6.421|78.9|4.9671|  2|242|   17.8| 396.9| 9.14|21.6|\n",
            "|0.02729| 0.0| 7.07|   0|0.469|7.185|61.1|4.9671|  2|242|   17.8|392.83| 4.03|34.7|\n",
            "|0.03237| 0.0| 2.18|   0|0.458|6.998|45.8|6.0622|  3|222|   18.7|394.63| 2.94|33.4|\n",
            "|0.06905| 0.0| 2.18|   0|0.458|7.147|54.2|6.0622|  3|222|   18.7| 396.9| 5.33|36.2|\n",
            "+-------+----+-----+----+-----+-----+----+------+---+---+-------+------+-----+----+\n",
            "only showing top 5 rows\n",
            "\n"
          ]
        }
      ]
    },
    {
      "cell_type": "code",
      "source": [
        "assembler = VectorAssembler(\n",
        "    inputCols=[\"crim\", \"zn\", \"indus\", \"chas\", \"nox\", \"rm\", \"age\", \"dis\", \"rad\", \"tax\", \"ptratio\", \"b\", \"lstat\"],\n",
        "    outputCol=\"features\")\n",
        "\n",
        "data = assembler.transform(data)\n",
        "final_data = data.select(\"features\", \"medv\")\n",
        "\n",
        "train_data, test_data = final_data.randomSplit([0.8, 0.2], seed=42)"
      ],
      "metadata": {
        "id": "_172jYlsgMhS"
      },
      "execution_count": 5,
      "outputs": []
    },
    {
      "cell_type": "code",
      "source": [
        "lr = LinearRegression(featuresCol=\"features\", labelCol=\"medv\", predictionCol=\"predicted_medv\")\n",
        "lr_model = lr.fit(train_data)"
      ],
      "metadata": {
        "id": "_YCORya5gQ6a"
      },
      "execution_count": 6,
      "outputs": []
    },
    {
      "cell_type": "code",
      "source": [
        "predictions = lr_model.transform(test_data)\n",
        "\n",
        "evaluator = RegressionEvaluator(labelCol=\"medv\", predictionCol=\"predicted_medv\", metricName=\"rmse\")\n",
        "rmse = evaluator.evaluate(predictions)\n",
        "print(\"Root Mean Squared Error (RMSE) on test data: {:.3f}\".format(rmse))\n",
        "\n",
        "evaluator_r2 = RegressionEvaluator(labelCol=\"medv\", predictionCol=\"predicted_medv\", metricName=\"r2\")\n",
        "r2 = evaluator_r2.evaluate(predictions)\n",
        "print(\"R-squared (R2) on test data: {:.3f}\".format(r2))"
      ],
      "metadata": {
        "colab": {
          "base_uri": "https://localhost:8080/"
        },
        "id": "x9rAfdRKgVvd",
        "outputId": "c62050a1-97e7-42ee-c261-e5b089febf30"
      },
      "execution_count": 7,
      "outputs": [
        {
          "output_type": "stream",
          "name": "stdout",
          "text": [
            "Root Mean Squared Error (RMSE) on test data: 4.672\n",
            "R-squared (R2) on test data: 0.793\n"
          ]
        }
      ]
    },
    {
      "cell_type": "code",
      "source": [
        "coefficients = lr_model.coefficients\n",
        "intercept = lr_model.intercept\n",
        "\n",
        "print(\"Coefficients: \", coefficients)\n",
        "print(\"Intercept: {:.3f}\".format(intercept))"
      ],
      "metadata": {
        "colab": {
          "base_uri": "https://localhost:8080/"
        },
        "id": "KEGNKeGrgbaV",
        "outputId": "4a88ddac-373c-4425-a4b4-7ba548560c5a"
      },
      "execution_count": 8,
      "outputs": [
        {
          "output_type": "stream",
          "name": "stdout",
          "text": [
            "Coefficients:  [-0.11362203729409111,0.048909186934055354,0.023795428986748923,2.801771998735071,-18.415424541191168,3.5158797633118337,0.005211682161471176,-1.4163830723540525,0.3317669315937271,-0.013607893704165114,-0.953414333840846,0.008602677392852453,-0.5195035312476768]\n",
            "Intercept: 38.617\n"
          ]
        }
      ]
    },
    {
      "cell_type": "code",
      "source": [
        "feature_importance = sorted(list(zip(data.columns[:-1], map(abs, coefficients))), key=lambda x: x[1], reverse=True)\n",
        "\n",
        "print(\"Feature Importance:\")\n",
        "for feature, importance in feature_importance:\n",
        "    print(\"  {}: {:.3f}\".format(feature, importance))"
      ],
      "metadata": {
        "colab": {
          "base_uri": "https://localhost:8080/"
        },
        "id": "hQaRlG7LgnkX",
        "outputId": "96e6b219-928b-4a98-c846-8f63ddacadcc"
      },
      "execution_count": 10,
      "outputs": [
        {
          "output_type": "stream",
          "name": "stdout",
          "text": [
            "Feature Importance:\n",
            "  nox: 18.415\n",
            "  rm: 3.516\n",
            "  chas: 2.802\n",
            "  dis: 1.416\n",
            "  ptratio: 0.953\n",
            "  lstat: 0.520\n",
            "  rad: 0.332\n",
            "  crim: 0.114\n",
            "  zn: 0.049\n",
            "  indus: 0.024\n",
            "  tax: 0.014\n",
            "  b: 0.009\n",
            "  age: 0.005\n"
          ]
        }
      ]
    }
  ]
}